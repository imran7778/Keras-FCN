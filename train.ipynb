{
 "cells": [
  {
   "cell_type": "code",
   "execution_count": null,
   "metadata": {
    "colab": {
     "base_uri": "https://localhost:8080/"
    },
    "executionInfo": {
     "elapsed": 33808,
     "status": "ok",
     "timestamp": 1617949214416,
     "user": {
      "displayName": "KEVIN CHEN",
      "photoUrl": "",
      "userId": "14338696251941011599"
     },
     "user_tz": 420
    },
    "id": "9UoMxG_YI2gz",
    "outputId": "8311a69a-6ade-488b-ca19-bcfd3589439d"
   },
   "outputs": [],
   "source": [
    "## only run if using google Colab\n",
    "from google.colab import drive\n",
    "drive.mount('/content/drive')\n",
    "\n",
    "import os\n",
    "os.chdir('/content/drive/MyDrive/FCN')"
   ]
  },
  {
   "cell_type": "code",
   "execution_count": null,
   "metadata": {
    "executionInfo": {
     "elapsed": 3868,
     "status": "ok",
     "timestamp": 1617950121970,
     "user": {
      "displayName": "KEVIN CHEN",
      "photoUrl": "",
      "userId": "14338696251941011599"
     },
     "user_tz": 420
    },
    "id": "hgLADaaxIRS9"
   },
   "outputs": [],
   "source": [
    "import numpy as np\n",
    "import tensorflow as tf\n",
    "from tensorflow import keras\n",
    "import matplotlib.pyplot as plt\n",
    "import pickle\n",
    "\n",
    "import utils, augment, models\n",
    "\n",
    "# for auto-reloading external modules\n",
    "%load_ext autoreload\n",
    "%autoreload 2"
   ]
  },
  {
   "cell_type": "code",
   "execution_count": null,
   "metadata": {
    "executionInfo": {
     "elapsed": 4842,
     "status": "ok",
     "timestamp": 1617950126839,
     "user": {
      "displayName": "KEVIN CHEN",
      "photoUrl": "",
      "userId": "14338696251941011599"
     },
     "user_tz": 420
    },
    "id": "qGO1QUP7dF3B"
   },
   "outputs": [],
   "source": [
    "## read data from tfrecords files\n",
    "train_dataset = tf.data.TFRecordDataset('data/train.tfrecords').map(utils.parse_example)\n",
    "val_dataset = tf.data.TFRecordDataset('data/val.tfrecords').map(utils.parse_example)"
   ]
  },
  {
   "cell_type": "code",
   "execution_count": null,
   "metadata": {},
   "outputs": [],
   "source": [
    "## no dataset augmentation\n",
    "train_dataset = train_dataset.map(augment.resize_with_pad)\n",
    "val_dataset = val_dataset.map(augment.resize_with_pad)"
   ]
  },
  {
   "cell_type": "code",
   "execution_count": null,
   "metadata": {
    "colab": {
     "base_uri": "https://localhost:8080/",
     "height": 479
    },
    "executionInfo": {
     "elapsed": 654,
     "status": "ok",
     "timestamp": 1617675790657,
     "user": {
      "displayName": "KEVIN CHEN",
      "photoUrl": "",
      "userId": "14338696251941011599"
     },
     "user_tz": 420
    },
    "id": "A4HqbMDqdJsi",
    "outputId": "e3a58416-6cdd-4afa-be96-67fe069abaaa",
    "scrolled": false
   },
   "outputs": [],
   "source": [
    "## check data\n",
    "for X, y in train_dataset.shuffle(100).take(1):\n",
    "    plt.figure()\n",
    "    plt.imshow(X)\n",
    "    plt.show()\n",
    "    \n",
    "    plt.figure()\n",
    "    plt.imshow(utils.label_to_image(utils.onehot_to_label(y)))\n",
    "    plt.show()"
   ]
  },
  {
   "cell_type": "markdown",
   "metadata": {
    "id": "mAiz-3SOdAAQ"
   },
   "source": [
    "# Models"
   ]
  },
  {
   "cell_type": "code",
   "execution_count": null,
   "metadata": {
    "colab": {
     "base_uri": "https://localhost:8080/"
    },
    "executionInfo": {
     "elapsed": 8342,
     "status": "ok",
     "timestamp": 1617950135212,
     "user": {
      "displayName": "KEVIN CHEN",
      "photoUrl": "",
      "userId": "14338696251941011599"
     },
     "user_tz": 420
    },
    "id": "j3ltEpoDvCDm",
    "outputId": "d01b3ae0-e9a1-4c44-c409-b5766607fbd6"
   },
   "outputs": [],
   "source": [
    "## VGG16 base model\n",
    "base_model = models.vgg16(l2=1e-6, dropout=0.2)"
   ]
  },
  {
   "cell_type": "code",
   "execution_count": null,
   "metadata": {},
   "outputs": [],
   "source": [
    "## Load ImageNet weights\n",
    "## https://keras.io/api/applications/\n",
    "vgg16 = keras.applications.vgg16.VGG16(weights='imagenet')\n",
    "weight_list = vgg16.get_weights()\n",
    "weight_list[26] = weight_list[26].reshape(7, 7, 512, 4096)\n",
    "weight_list[28] = weight_list[28].reshape(1, 1, 4096, 4096)\n",
    "weight_list[30] = weight_list[30].reshape(1, 1, 4096, 1000)\n",
    "base_model.set_weights(weight_list)\n",
    "del weight_list"
   ]
  },
  {
   "cell_type": "code",
   "execution_count": null,
   "metadata": {
    "colab": {
     "base_uri": "https://localhost:8080/",
     "height": 333
    },
    "executionInfo": {
     "elapsed": 26179,
     "status": "ok",
     "timestamp": 1617950153079,
     "user": {
      "displayName": "KEVIN CHEN",
      "photoUrl": "",
      "userId": "14338696251941011599"
     },
     "user_tz": 420
    },
    "id": "7_lDmaejKVva",
    "outputId": "00e9e224-c0e2-40f7-dc0f-34e10f84e51b"
   },
   "outputs": [],
   "source": [
    "## Test base model\n",
    "from class_names.imagenet import class_names\n",
    "\n",
    "img = utils.get_image('assets/laska.png')\n",
    "plt.figure()\n",
    "plt.imshow(img)\n",
    "plt.show()\n",
    "\n",
    "print('Top three guesses with probabilities:')\n",
    "probs = base_model.predict(img[None])[0, 3, 3] # pick the central prediction from 7 x 7 square\n",
    "pred = np.argsort(probs)[::-1]\n",
    "for i in range(3):\n",
    "    c = pred[i]\n",
    "    print(\"{0:s} (p={1:.3f})\".format(class_names[c], probs[c]))"
   ]
  },
  {
   "cell_type": "code",
   "execution_count": null,
   "metadata": {
    "executionInfo": {
     "elapsed": 685,
     "status": "ok",
     "timestamp": 1617952121478,
     "user": {
      "displayName": "KEVIN CHEN",
      "photoUrl": "",
      "userId": "14338696251941011599"
     },
     "user_tz": 420
    },
    "id": "IF2oJ7aQtaY_"
   },
   "outputs": [],
   "source": [
    "## FCN32\n",
    "fcn32 = models.fcn32(base_model, l2=1e-6)\n",
    "## freeze lower layers for fine-tuning\n",
    "fcn32.get_layer('block1_conv1').trainable=False\n",
    "fcn32.get_layer('block1_conv2').trainable=False\n",
    "fcn32.get_layer('block2_conv1').trainable=False\n",
    "fcn32.get_layer('block2_conv2').trainable=False\n",
    "fcn32.get_layer('block3_conv1').trainable=False\n",
    "fcn32.get_layer('block3_conv2').trainable=False\n",
    "fcn32.get_layer('block3_conv3').trainable=False\n",
    "fcn32.get_layer('block4_conv1').trainable=False\n",
    "fcn32.get_layer('block4_conv2').trainable=False\n",
    "fcn32.get_layer('block4_conv3').trainable=False\n",
    "## freeze upsample layer\n",
    "fcn32.get_layer('fcn32').trainable=False"
   ]
  },
  {
   "cell_type": "code",
   "execution_count": null,
   "metadata": {
    "executionInfo": {
     "elapsed": 14773,
     "status": "ok",
     "timestamp": 1617950290816,
     "user": {
      "displayName": "KEVIN CHEN",
      "photoUrl": "",
      "userId": "14338696251941011599"
     },
     "user_tz": 420
    },
    "id": "y-8Bqbyg9dKz"
   },
   "outputs": [],
   "source": [
    "## Load weights, if trained\n",
    "fcn32.load_weights('weights/fcn32_20.h5')"
   ]
  },
  {
   "cell_type": "code",
   "execution_count": null,
   "metadata": {
    "executionInfo": {
     "elapsed": 845,
     "status": "ok",
     "timestamp": 1617952166263,
     "user": {
      "displayName": "KEVIN CHEN",
      "photoUrl": "",
      "userId": "14338696251941011599"
     },
     "user_tz": 420
    },
    "id": "FoTVM3R0mjtU"
   },
   "outputs": [],
   "source": [
    "## FCN16\n",
    "fcn16 = models.fcn16(base_model, fcn32, l2=1e-6)\n",
    "## unfreeze layers\n",
    "fcn16.get_layer('block4_conv1').trainable=True\n",
    "fcn16.get_layer('block4_conv2').trainable=True\n",
    "fcn16.get_layer('block4_conv3').trainable=True\n",
    "## freeze upsample layer\n",
    "fcn16.get_layer('score7_upsample').trainable=False\n",
    "fcn16.get_layer('fcn16').trainable=False"
   ]
  },
  {
   "cell_type": "code",
   "execution_count": null,
   "metadata": {
    "executionInfo": {
     "elapsed": 14456,
     "status": "ok",
     "timestamp": 1617950995145,
     "user": {
      "displayName": "KEVIN CHEN",
      "photoUrl": "",
      "userId": "14338696251941011599"
     },
     "user_tz": 420
    },
    "id": "1kaOScUN9mLE"
   },
   "outputs": [],
   "source": [
    "## Load weights, if trained\n",
    "fcn16.load_weights('weights/fcn16_20.h5')"
   ]
  },
  {
   "cell_type": "code",
   "execution_count": null,
   "metadata": {
    "executionInfo": {
     "elapsed": 740,
     "status": "ok",
     "timestamp": 1617951157935,
     "user": {
      "displayName": "KEVIN CHEN",
      "photoUrl": "",
      "userId": "14338696251941011599"
     },
     "user_tz": 420
    },
    "id": "F0vo4Gsvj0X0"
   },
   "outputs": [],
   "source": [
    "## FCN8\n",
    "fcn8 = models.fcn8(base_model, fcn16, l2=1e-6)\n",
    "## unfreeze layers\n",
    "fcn8.get_layer('block1_conv1').trainable=True\n",
    "fcn8.get_layer('block1_conv2').trainable=True\n",
    "fcn8.get_layer('block2_conv1').trainable=True\n",
    "fcn8.get_layer('block2_conv2').trainable=True\n",
    "fcn8.get_layer('block3_conv1').trainable=True\n",
    "fcn8.get_layer('block3_conv2').trainable=True\n",
    "fcn8.get_layer('block3_conv3').trainable=True\n",
    "## freeze upsample layer\n",
    "fcn8.get_layer('skip4_upsample').trainable=False\n",
    "fcn8.get_layer('fcn8').trainable=False"
   ]
  },
  {
   "cell_type": "code",
   "execution_count": null,
   "metadata": {},
   "outputs": [],
   "source": [
    "## Load weights, if trained\n",
    "fcn8.load_weights('weights/fcn8_20.h5')"
   ]
  },
  {
   "cell_type": "markdown",
   "metadata": {
    "id": "32a1gcKSdDRF"
   },
   "source": [
    "# Training"
   ]
  },
  {
   "cell_type": "code",
   "execution_count": null,
   "metadata": {
    "colab": {
     "base_uri": "https://localhost:8080/"
    },
    "executionInfo": {
     "elapsed": 580,
     "status": "ok",
     "timestamp": 1617952194103,
     "user": {
      "displayName": "KEVIN CHEN",
      "photoUrl": "",
      "userId": "14338696251941011599"
     },
     "user_tz": 420
    },
    "id": "sT6GMTk5naAh",
    "outputId": "d16340ca-5f92-41b9-be4c-6da31b5994d5"
   },
   "outputs": [],
   "source": [
    "## Load model\n",
    "model = fcn32\n",
    "#model.summary()"
   ]
  },
  {
   "cell_type": "code",
   "execution_count": null,
   "metadata": {
    "executionInfo": {
     "elapsed": 842,
     "status": "ok",
     "timestamp": 1617951178232,
     "user": {
      "displayName": "KEVIN CHEN",
      "photoUrl": "",
      "userId": "14338696251941011599"
     },
     "user_tz": 420
    },
    "id": "TuQEIO-jp_Lr"
   },
   "outputs": [],
   "source": [
    "## compile\n",
    "\n",
    "## custom CategoricalCrossentropy---default one does not work\n",
    "def crossentropy(y_true, y_pred):\n",
    "    return -21*tf.math.reduce_mean(y_true * tf.math.log(y_pred + 1e-7))\n",
    "    \n",
    "opt = keras.optimizers.Adam(learning_rate=1e-4)\n",
    "#loss = keras.losses.CategoricalCrossentropy(name='crossentropy')\n",
    "metrics = [crossentropy,\n",
    "           keras.metrics.CategoricalAccuracy(name='pixelacc'),\n",
    "           keras.metrics.MeanIoU(num_classes=21, name='meanIoU')]\n",
    "model.compile(optimizer=opt, loss=crossentropy, metrics=metrics)"
   ]
  },
  {
   "cell_type": "code",
   "execution_count": null,
   "metadata": {},
   "outputs": [],
   "source": [
    "## test model\n",
    "for X, y in train_dataset.shuffle(100).batch(1).take(1):\n",
    "    model.evaluate(X, y)\n",
    "    plt.figure()\n",
    "    plt.imshow(X[0])\n",
    "    plt.show()\n",
    "    \n",
    "    plt.figure()\n",
    "    plt.imshow(utils.label_to_image(utils.onehot_to_label(model(X)[0])))\n",
    "    plt.show()\n",
    "    \n",
    "    plt.figure()\n",
    "    plt.imshow(utils.label_to_image(utils.onehot_to_label(y[0])))\n",
    "    plt.show()"
   ]
  },
  {
   "cell_type": "code",
   "execution_count": null,
   "metadata": {
    "colab": {
     "base_uri": "https://localhost:8080/",
     "height": 35
    },
    "executionInfo": {
     "elapsed": 1239,
     "status": "ok",
     "timestamp": 1617951179969,
     "user": {
      "displayName": "KEVIN CHEN",
      "photoUrl": "",
      "userId": "14338696251941011599"
     },
     "user_tz": 420
    },
    "id": "XQks8iAYpvJS",
    "outputId": "d9bf6efe-6bbd-48bd-e498-751b0f7e7482"
   },
   "outputs": [],
   "source": [
    "## check running GPU\n",
    "tf.test.gpu_device_name()"
   ]
  },
  {
   "cell_type": "code",
   "execution_count": null,
   "metadata": {
    "executionInfo": {
     "elapsed": 1061,
     "status": "ok",
     "timestamp": 1617951180743,
     "user": {
      "displayName": "KEVIN CHEN",
      "photoUrl": "",
      "userId": "14338696251941011599"
     },
     "user_tz": 420
    },
    "id": "p-57qF4eqFG0"
   },
   "outputs": [],
   "source": [
    "## training and validation datasets\n",
    "train = train_dataset.shuffle(2000).batch(20)\n",
    "val = val_dataset.shuffle(1200).batch(20)"
   ]
  },
  {
   "cell_type": "code",
   "execution_count": null,
   "metadata": {
    "colab": {
     "base_uri": "https://localhost:8080/"
    },
    "id": "kZpFcp3-m990",
    "outputId": "5f8c2d30-f639-4d43-d3bf-419479479778"
   },
   "outputs": [],
   "source": [
    "history = model.fit(train, epochs=20, validation_data=val)"
   ]
  },
  {
   "cell_type": "code",
   "execution_count": null,
   "metadata": {
    "id": "sK1UTPMnbWM7"
   },
   "outputs": [],
   "source": [
    "## Save weights and metrics\n",
    "\n",
    "model.save_weights('weights/fcn32_20.h5')\n",
    "\n",
    "with open('logs/fcn32_20', 'wb') as f:\n",
    "    pickle.dump(history.history, f)"
   ]
  },
  {
   "cell_type": "markdown",
   "metadata": {},
   "source": [
    "# Evaluate"
   ]
  },
  {
   "cell_type": "code",
   "execution_count": null,
   "metadata": {},
   "outputs": [],
   "source": [
    "from PIL import Image"
   ]
  },
  {
   "cell_type": "code",
   "execution_count": null,
   "metadata": {},
   "outputs": [],
   "source": [
    "X = utils.get_image('assets/rider.jpg')\n",
    "y_true = utils.get_label_mat('assets/rider_label.mat')"
   ]
  },
  {
   "cell_type": "code",
   "execution_count": null,
   "metadata": {},
   "outputs": [],
   "source": [
    "XX, yy_true = augment.resize_with_pad(X, y_true)\n",
    "yy_pred = model(XX[None])[0]\n",
    "model.evaluate(XX[None], yy[None])"
   ]
  },
  {
   "cell_type": "code",
   "execution_count": null,
   "metadata": {},
   "outputs": [],
   "source": [
    "y_pred = tf.image.resize_with_crop_or_pad(yy_pred, y_true.shape[0], y_true.shape[1])\n",
    "y_pred = utils.onehot_to_label(y_pred)"
   ]
  },
  {
   "cell_type": "code",
   "execution_count": null,
   "metadata": {},
   "outputs": [],
   "source": [
    "plt.figure()\n",
    "plt.imshow(utils.label_to_image(y_true))\n",
    "plt.show()\n",
    "\n",
    "plt.figure()\n",
    "plt.imshow(utils.label_to_image(y_pred))\n",
    "plt.show()"
   ]
  },
  {
   "cell_type": "code",
   "execution_count": null,
   "metadata": {},
   "outputs": [],
   "source": [
    "## save true label\n",
    "im = Image.fromarray(utils.label_to_image(y_pred))\n",
    "im.save('assets/fcn32.png')"
   ]
  },
  {
   "cell_type": "code",
   "execution_count": null,
   "metadata": {},
   "outputs": [],
   "source": [
    "## save true label\n",
    "im = Image.fromarray(utils.label_to_image(y_true))\n",
    "im.save('assets/rider_label.png')"
   ]
  },
  {
   "cell_type": "markdown",
   "metadata": {},
   "source": [
    "# Plot"
   ]
  },
  {
   "cell_type": "code",
   "execution_count": null,
   "metadata": {},
   "outputs": [],
   "source": [
    "## aggregate data if needed\n",
    "with open('logs/fcn32_5', 'rb') as f:\n",
    "    h1 = pickle.load(f)\n",
    "with open('logs/fcn32_10', 'rb') as f:\n",
    "    h2 = pickle.load(f)\n",
    "with open('logs/fcn32_15', 'rb') as f:\n",
    "    h3 = pickle.load(f)\n",
    "with open('logs/fcn32_20', 'rb') as f:\n",
    "    h4 = pickle.load(f)\n",
    "    \n",
    "for key in h1:\n",
    "    h1[key] += h2[key]\n",
    "    h1[key] += h3[key]\n",
    "    h1[key] += h4[key]\n",
    "    \n",
    "with open('logs/fcn32_20', 'wb') as f:\n",
    "    pickle.dump(h1, f)"
   ]
  },
  {
   "cell_type": "code",
   "execution_count": null,
   "metadata": {},
   "outputs": [],
   "source": [
    "with open('logs/fcn32_20', 'rb') as f:\n",
    "    h1 = pickle.load(f)\n",
    "#with open('logs/fcn16_20', 'rb') as f:\n",
    "#    h2 = pickle.load(f)\n",
    "#with open('logs/fcn8_20', 'rb') as f:\n",
    "#    h2 = pickle.load(f)"
   ]
  },
  {
   "cell_type": "code",
   "execution_count": null,
   "metadata": {},
   "outputs": [],
   "source": [
    "plt.plot(range(1,21), h1['val_loss'], '-', color='blue', label='FCN32 validation loss')\n",
    "plt.plot(range(1,21), h1['loss'], '--', color='blue', label='FCN32 training loss')\n",
    "#plt.plot(range(1,21), h2['val_loss'], '-', color='red', label='FCN16 validation loss')\n",
    "#plt.plot(range(1,21), h2['loss'], '--', color='red', label='FCN16 training loss')\n",
    "#plt.plot(range(1,21), h3['val_loss'], '-', color='green', label='FCN8 validation loss')\n",
    "#plt.plot(range(1,21), h3['loss'], '--', color='green', label='FCN8 training loss')\n",
    "plt.legend()\n",
    "plt.show()"
   ]
  },
  {
   "cell_type": "code",
   "execution_count": null,
   "metadata": {},
   "outputs": [],
   "source": [
    "plt.plot(range(1,21), h1['val_meanIoU'], '-', color='blue', label='FCN32 validation meanIoU')\n",
    "plt.plot(range(1,21), h1['meanIoU'], '--', color='blue', label='FCN32 training meanIoU')\n",
    "#plt.plot(range(1,21), h2['val_meanIoU'], '-', color='red', label='FCN16 validation meanIoU')\n",
    "#plt.plot(range(1,21), h2['meanIoU'], '--', color='red', label='FCN16 training meanIoU')\n",
    "#plt.plot(range(1,21), h3['val_meanIoU'], '-', color='green', label='FCN8 validation meanIoU')\n",
    "#plt.plot(range(1,21), h3['meanIoU'], '--', color='green', label='FCN8 training meanIoU')\n",
    "plt.legend()\n",
    "plt.show()"
   ]
  },
  {
   "cell_type": "code",
   "execution_count": null,
   "metadata": {},
   "outputs": [],
   "source": []
  }
 ],
 "metadata": {
  "accelerator": "GPU",
  "colab": {
   "collapsed_sections": [],
   "name": "train.ipynb",
   "provenance": []
  },
  "kernelspec": {
   "display_name": "Python 3",
   "language": "python",
   "name": "python3"
  },
  "language_info": {
   "codemirror_mode": {
    "name": "ipython",
    "version": 3
   },
   "file_extension": ".py",
   "mimetype": "text/x-python",
   "name": "python",
   "nbconvert_exporter": "python",
   "pygments_lexer": "ipython3",
   "version": "3.8.10"
  }
 },
 "nbformat": 4,
 "nbformat_minor": 1
}
