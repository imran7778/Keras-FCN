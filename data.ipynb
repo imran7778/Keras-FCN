{
 "cells": [
  {
   "cell_type": "code",
   "execution_count": null,
   "id": "8c12ea7a",
   "metadata": {},
   "outputs": [],
   "source": [
    "## only run if using google Colab\n",
    "from google.colab import drive\n",
    "drive.mount('/content/drive')\n",
    "\n",
    "import os\n",
    "os.chdir('/content/drive/MyDrive/FCN')"
   ]
  },
  {
   "cell_type": "code",
   "execution_count": 1,
   "id": "b94b57fd",
   "metadata": {},
   "outputs": [],
   "source": [
    "import numpy as np\n",
    "import tensorflow as tf\n",
    "from matplotlib import pyplot as plt\n",
    "\n",
    "import utils\n",
    "\n",
    "# for auto-reloading external modules\n",
    "%load_ext autoreload\n",
    "%autoreload 2"
   ]
  },
  {
   "cell_type": "code",
   "execution_count": 2,
   "id": "f4bec45a",
   "metadata": {},
   "outputs": [],
   "source": [
    "## Paths ======================================\n",
    "IMAGES_MAT = 'data/images_mat/'\n",
    "IMAGES_PNG = 'data/images_png/'\n",
    "LABELS_MAT = 'data/labels_mat/'\n",
    "LABELS_PNG = 'data/labels_png/'\n",
    "\n",
    "TRAIN_MAT = 'data/train_mat.txt'\n",
    "TRAIN_PNG = 'data/train_png.txt'\n",
    "VAL_MAT = 'data/val_mat.txt'\n",
    "\n",
    "TRAIN = 'data/train.tfrecords'\n",
    "VAL = 'data/val.tfrecords'\n",
    "## ============================================"
   ]
  },
  {
   "cell_type": "code",
   "execution_count": 3,
   "id": "5c092569",
   "metadata": {},
   "outputs": [],
   "source": [
    "## write train dataset\n",
    "with tf.io.TFRecordWriter(TRAIN) as writer:\n",
    "    ## write .mat files\n",
    "    with open(TRAIN_MAT) as file:\n",
    "        filenames = [s.rstrip('\\n') for s in file.readlines()]\n",
    "    for name in filenames:\n",
    "        image = utils.get_image(IMAGES_MAT+name+'.jpg')\n",
    "        label = utils.get_label_mat(LABELS_MAT+name+'.mat')\n",
    "        writer.write(utils.get_example(image, label).SerializeToString())\n",
    "    ## write .png files\n",
    "    with open(TRAIN_PNG) as file:\n",
    "        filenames = [s.rstrip('\\n') for s in file.readlines()]\n",
    "    for name in filenames:\n",
    "        image = utils.get_image(IMAGES_PNG+name+'.jpg')\n",
    "        label = utils.get_label_png(LABELS_PNG+name+'.png')\n",
    "        writer.write(utils.get_example(image, label).SerializeToString())"
   ]
  },
  {
   "cell_type": "code",
   "execution_count": 4,
   "id": "20e7e456",
   "metadata": {},
   "outputs": [],
   "source": [
    "## write validation dataset\n",
    "with tf.io.TFRecordWriter(VAL) as writer:\n",
    "    ## write .mat files\n",
    "    with open(VAL_MAT) as file:\n",
    "        filenames = [s.rstrip('\\n') for s in file.readlines()]\n",
    "    for name in filenames:\n",
    "        image = utils.get_image(IMAGES_MAT+name+'.jpg')\n",
    "        label = utils.get_label_mat(LABELS_MAT+name+'.mat')\n",
    "        writer.write(utils.get_example(image, label).SerializeToString())"
   ]
  },
  {
   "cell_type": "code",
   "execution_count": null,
   "id": "e4571d6b",
   "metadata": {},
   "outputs": [],
   "source": []
  }
 ],
 "metadata": {
  "kernelspec": {
   "display_name": "Python 3",
   "language": "python",
   "name": "python3"
  },
  "language_info": {
   "codemirror_mode": {
    "name": "ipython",
    "version": 3
   },
   "file_extension": ".py",
   "mimetype": "text/x-python",
   "name": "python",
   "nbconvert_exporter": "python",
   "pygments_lexer": "ipython3",
   "version": "3.8.10"
  }
 },
 "nbformat": 4,
 "nbformat_minor": 5
}
